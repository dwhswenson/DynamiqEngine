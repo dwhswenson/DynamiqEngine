{
 "cells": [
  {
   "cell_type": "code",
   "execution_count": 1,
   "metadata": {
    "collapsed": false
   },
   "outputs": [],
   "source": [
    "import dynamiq_engine as dynq\n",
    "import openpathsampling.engines as peng\n",
    "import numpy as np"
   ]
  },
  {
   "cell_type": "code",
   "execution_count": 2,
   "metadata": {
    "collapsed": false
   },
   "outputs": [],
   "source": [
    "# Morse test system: a test of 1D performance\n",
    "potential = dynq.potentials.interactions.MorseInteraction(D=30.0,\n",
    "                                                          beta=0.08,\n",
    "                                                          x0=0.0)\n",
    "integrator = dynq.integrators.CandyRozmus4(dt=0.1, potential=potential)\n",
    "masses = [1.0]\n",
    "topology = dynq.Topology(masses=[1.0], potential=potential)\n",
    "snapshot = dynq.Snapshot(coordinates=np.array([0.0]),\n",
    "                         momenta=np.array([0.5]),\n",
    "                         topology=topology)\n",
    "engine = dynq.DynamiqEngine(potential, integrator, template=snapshot)"
   ]
  },
  {
   "cell_type": "code",
   "execution_count": 6,
   "metadata": {
    "collapsed": false
   },
   "outputs": [
    {
     "name": "stdout",
     "output_type": "stream",
     "text": [
      " "
     ]
    }
   ],
   "source": [
    "%%prun\n",
    "engine.start()\n",
    "length_criteria = lambda x, foo : len(x) <= 10\n",
    "trajectory = engine.generate(snapshot, running=[length_criteria])"
   ]
  },
  {
   "cell_type": "code",
   "execution_count": 4,
   "metadata": {
    "collapsed": false
   },
   "outputs": [
    {
     "name": "stdout",
     "output_type": "stream",
     "text": [
      "Trajectory[11]\n"
     ]
    }
   ],
   "source": [
    "print trajectory"
   ]
  },
  {
   "cell_type": "code",
   "execution_count": null,
   "metadata": {
    "collapsed": true
   },
   "outputs": [],
   "source": []
  }
 ],
 "metadata": {
  "kernelspec": {
   "display_name": "Python 2",
   "language": "python",
   "name": "python2"
  },
  "language_info": {
   "codemirror_mode": {
    "name": "ipython",
    "version": 2
   },
   "file_extension": ".py",
   "mimetype": "text/x-python",
   "name": "python",
   "nbconvert_exporter": "python",
   "pygments_lexer": "ipython2",
   "version": "2.7.11"
  }
 },
 "nbformat": 4,
 "nbformat_minor": 0
}
